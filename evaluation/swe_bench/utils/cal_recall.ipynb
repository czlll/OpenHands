{
 "cells": [
  {
   "cell_type": "code",
   "execution_count": 1,
   "metadata": {},
   "outputs": [],
   "source": [
    "import os\n",
    "import json\n",
    "def loads_json(file):\n",
    "    with open(file, 'r') as f:\n",
    "        data = json.loads(f.read())\n",
    "    return data\n",
    "\n",
    "eval_output_dir = '/home/ubuntu/project/OpenHands/evaluation/evaluation_outputs/outputs'\n",
    "output_file = 'openhands/use_code_hint/princeton-nlp__SWE-bench_Lite-test/CodeActAgent/claude-3-5-sonnet-20241022_maxiter_30_N_v2.1-no-hint-run_1/output.jsonl'\n",
    "eval_output_file = os.path.join(eval_output_dir, output_file)"
   ]
  },
  {
   "cell_type": "code",
   "execution_count": 3,
   "metadata": {},
   "outputs": [],
   "source": [
    "gt_file = '/home/ubuntu/auto-search-agent/evaluation/gt_data/SWE-bench_Lite/gt_locs_data_20241030.json'\n",
    "gt_datas = loads_json(gt_file)"
   ]
  },
  {
   "cell_type": "code",
   "execution_count": 45,
   "metadata": {},
   "outputs": [],
   "source": [
    "import re\n",
    "\n",
    "# Creating a mapping of file paths to their corresponding functions\n",
    "from collections import defaultdict\n",
    "def is_test(name, test_phrases=None):\n",
    "    if test_phrases is None:\n",
    "        test_phrases = ['test', 'tests', 'testing']\n",
    "    words = set(re.split(r' |_|\\/|\\.', name.lower()))\n",
    "    return any(word in words for word in test_phrases)\n",
    "\n",
    "def extract_locations(code_str):\n",
    "    # Initialize a defaultdict for easier management of lists\n",
    "    file_function_map = defaultdict(list)\n",
    "\n",
    "    # Extracting paths and functions again to build the desired structure\n",
    "    matches = re.finditer(r\"'path':\\s*'([^']+)'.*?(def\\s+(\\w+)\\()\", code_str, re.DOTALL)\n",
    "\n",
    "    for match in matches:\n",
    "        file_path = match.group(1)\n",
    "        if is_test(file_path) or 'reproduce' in file_path: continue\n",
    "        # file_path = file_path.split('/')[2:]\n",
    "        function_name = match.group(3)\n",
    "        file_function_map[file_path].append(function_name)\n",
    "\n",
    "    # Ensure all file paths are present in the result even if no functions were found\n",
    "    all_file_paths = re.findall(r\"'path':\\s*'([^']+)'\", code_str)\n",
    "    for path in all_file_paths:\n",
    "        if is_test(path) or 'reproduce' in path: continue\n",
    "        if path not in file_function_map:\n",
    "            file_function_map[path] = []\n",
    "\n",
    "    # Converting defaultdict to a regular dictionary for final result\n",
    "    result = dict(file_function_map)\n",
    "    return result\n",
    "\n",
    "def merge_dict(dict_1, dict_2):\n",
    "    merged_dict = {}\n",
    "    for key in set(dict_1) | set(dict_2):  # Using union of keys from both dictionaries\n",
    "        merged_dict[key] = list(set(dict_1.get(key, []) + dict_2.get(key, [])))\n",
    "    \n",
    "    return merged_dict"
   ]
  },
  {
   "cell_type": "code",
   "execution_count": 46,
   "metadata": {},
   "outputs": [
    {
     "data": {
      "text/plain": [
       "{'astropy__astropy-12907': {'/workspace/astropy__astropy__4.3/astropy/modeling/separable.py': ['_separable']},\n",
       " 'astropy__astropy-14995': {'/workspace/astropy__astropy__5.2/astropy/nddata/mixins/ndarithmetic.py': ['_arithmetic_mask']},\n",
       " 'astropy__astropy-6938': {'/workspace/astropy__astropy__1.3/astropy/io/fits/fitsrec.py': []},\n",
       " 'django__django-10914': {'/workspace/django__django__3.0/django/conf/global_settings.py': []},\n",
       " 'astropy__astropy-14182': {'/workspace/astropy__astropy__5.1/astropy/io/ascii/rst.py': ['write',\n",
       "   '__init__']},\n",
       " 'astropy__astropy-14365': {'/workspace/astropy__astropy__5.1/astropy/io/ascii/qdp.py': []},\n",
       " 'astropy__astropy-7746': {'/workspace/astropy__astropy__1.3/astropy/wcs/wcs.py': ['_return_single_array',\n",
       "   '_return_list_of_arrays']},\n",
       " 'django__django-10924': {'/workspace/django__django__3.0/django/db/models/fields/__init__.py': ['deconstruct',\n",
       "   'formfield',\n",
       "   '__init__'],\n",
       "  '/workspace/django__django__3.0/django/forms/fields.py': []},\n",
       " 'django__django-11001': {'/workspace/myapp/__init__.py': [],\n",
       "  '/workspace/myapp/apps.py': [],\n",
       "  '/workspace/django__django__3.0/django/db/models/sql/compiler.py': ['__init__'],\n",
       "  '/workspace/myapp/models.py': []},\n",
       " 'django__django-11019': {'/workspace/django__django__3.0/django/forms/widgets.py': ['merge']},\n",
       " 'django__django-11039': {'/workspace/django__django__3.0/django/core/management/commands/sqlmigrate.py': []},\n",
       " 'django__django-11049': {'/workspace/django__django__3.0/django/db/models/fields/__init__.py': ['__init__'],\n",
       "  '/workspace/django__django__3.0/django/utils/dateparse.py': []},\n",
       " 'django__django-11099': {'/workspace/django__django__3.0/django/contrib/auth/validators.py': []},\n",
       " 'django__django-11133': {'/workspace/django__django__3.0/django/http/response.py': []},\n",
       " 'django__django-11179': {'/workspace/django__django__3.0/django/db/models/deletion.py': ['can_fast_delete']},\n",
       " 'django__django-11283': {'/workspace/django__django__3.0/django/contrib/auth/migrations/0011_update_proxy_permissions.py': ['update_proxy_model_permissions']},\n",
       " 'django__django-11422': {'/workspace/django__django__3.0/django/utils/autoreload.py': ['watched_files'],\n",
       "  '/workspace/django__django__3.0/django/core/management/commands/runserver.py': ['run']},\n",
       " 'django__django-11564': {'/workspace/django__django__3.1/django/templatetags/static.py': ['render'],\n",
       "  '/workspace/django__django__3.1/django/core/request_local.py': ['get_current_request'],\n",
       "  '/workspace/django__django__3.1/django/core/files/storage.py': ['url'],\n",
       "  '/workspace/django__django__3.1/django/contrib/staticfiles/storage.py': ['url',\n",
       "   '__init__']},\n",
       " 'django__django-11583': {'/workspace/django__django__3.0/django/utils/autoreload.py': []},\n",
       " 'django__django-11620': {'/workspace/django__django__3.0/django/urls/resolvers.py': ['match',\n",
       "   'resolve']},\n",
       " 'django__django-11630': {'/workspace/django__django__3.0/django/core/checks/model_checks.py': []},\n",
       " 'django__django-11742': {'/workspace/django__django__3.0/django/db/models/fields/__init__.py': ['_check_choices']},\n",
       " 'django__django-11797': {'/workspace/django__django__3.1/django/db/models/sql/query.py': ['resolve_expression'],\n",
       "  '/workspace/django__django__3.1/django/db/models/query.py': []},\n",
       " 'django__django-11815': {'/workspace/django__django__3.1/django/db/migrations/serializer.py': ['serialize']},\n",
       " 'django__django-11848': {'/workspace/django__django__3.1/django/utils/http.py': []},\n",
       " 'django__django-11905': {'/workspace/django__django__3.1/django/db/models/lookups.py': ['as_sql']},\n",
       " 'django__django-11910': {'/workspace/django__django__3.1/django/db/migrations/operations/fields.py': ['state_forwards']},\n",
       " 'django__django-11964': {'/workspace/django__django__3.1/django/db/models/fields/__init__.py': ['get_prep_value',\n",
       "   '__init__'],\n",
       "  '/workspace/django__django__3.1/django/db/models/query_utils.py': ['__get__'],\n",
       "  '/workspace/django__django__3.1/django/db/models/enums.py': []},\n",
       " 'django__django-11999': {'/workspace/django__django__3.1/django/db/models/fields/__init__.py': [],\n",
       "  '/workspace/django__django__3.1/django/db/models/base.py': []},\n",
       " 'django__django-12113': {'/workspace/django__django__3.1/django/db/backends/sqlite3/base.py': []}}"
      ]
     },
     "execution_count": 46,
     "metadata": {},
     "output_type": "execute_result"
    }
   ],
   "source": [
    "all_loc_dict = dict()\n",
    "with open(eval_output_file, 'r') as f:\n",
    "    for line in f:\n",
    "        output = json.loads(line)\n",
    "        instance_id = output['instance_id']\n",
    "        msg_history = output['history']\n",
    "        all_loc_dict[instance_id] = dict()\n",
    "        for i, msg in enumerate(msg_history):\n",
    "            if i==0: continue\n",
    "            if 'args' in msg:\n",
    "                if 'code' in msg['args']:\n",
    "                    code = msg['args']['code']\n",
    "                elif 'command' in msg['args']:\n",
    "                    code = msg['args']['command']\n",
    "                extracted_loc = extract_locations(code)\n",
    "                all_loc_dict[instance_id] = merge_dict(all_loc_dict[instance_id], extracted_loc)\n",
    "        # break\n",
    "all_loc_dict\n",
    "# collect code(-> filenames / module names)"
   ]
  },
  {
   "cell_type": "code",
   "execution_count": null,
   "metadata": {},
   "outputs": [
    {
     "data": {
      "text/plain": [
       "(['/workspace/reproduce.py',\n",
       "  '/workspace/astropy__astropy__4.3/astropy/modeling/separable.py'],\n",
       " ['_separable'])"
      ]
     },
     "execution_count": 7,
     "metadata": {},
     "output_type": "execute_result"
    }
   ],
   "source": [
    "import re\n",
    "# Adjusted input text to handle line continuation characters and simplify extraction logic\n",
    "\n",
    "# Trimming down and using cleaned strings for better handling\n",
    "input_text = \"\"\"\n",
    "print(file_editor(**{'command': 'create', 'path': '/workspace/reproduce.py'}))\n",
    "print(file_editor(**{'command': 'str_replace', 'path': '/workspace/astropy__astropy__4.3/astropy/modeling/separable.py', 'old_str': 'def _separable(transform):'}))\n",
    "\"\"\"\n",
    "\n",
    "# Extracting file paths\n",
    "file_paths = re.findall(r\"'path':\\s*'([^']+)'\", input_text)\n",
    "\n",
    "# Extracting function names/modules\n",
    "function_names = re.findall(r'def\\s+(\\w+)\\(', input_text)\n",
    "\n",
    "(file_paths, function_names)"
   ]
  },
  {
   "cell_type": "code",
   "execution_count": null,
   "metadata": {},
   "outputs": [],
   "source": []
  },
  {
   "cell_type": "code",
   "execution_count": 25,
   "metadata": {},
   "outputs": [
    {
     "data": {
      "text/plain": [
       "{'/workspace/reproduce.py': []}"
      ]
     },
     "execution_count": 25,
     "metadata": {},
     "output_type": "execute_result"
    }
   ],
   "source": [
    "text = input_text.strip().split('\\n')[0]\n",
    "extract_locations(text)"
   ]
  },
  {
   "cell_type": "code",
   "execution_count": 20,
   "metadata": {},
   "outputs": [],
   "source": [
    "matches = re.finditer(r\"'path':\\s*'([^']+)'.*?(def\\s+(\\w+)\\()\", text, re.DOTALL)\n",
    "for match in matches:\n",
    "    file_path = match.group(1)\n",
    "    function_name = match.group(3)\n",
    "    # file_function_map[file_path].append(function_name)\n",
    "    print(file_path)"
   ]
  }
 ],
 "metadata": {
  "kernelspec": {
   "display_name": "agentless",
   "language": "python",
   "name": "python3"
  },
  "language_info": {
   "codemirror_mode": {
    "name": "ipython",
    "version": 3
   },
   "file_extension": ".py",
   "mimetype": "text/x-python",
   "name": "python",
   "nbconvert_exporter": "python",
   "pygments_lexer": "ipython3",
   "version": "3.11.10"
  }
 },
 "nbformat": 4,
 "nbformat_minor": 2
}
