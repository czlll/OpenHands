{
 "cells": [
  {
   "cell_type": "code",
   "execution_count": null,
   "id": "initial_id",
   "metadata": {
    "collapsed": true,
    "is_executing": true
   },
   "outputs": [],
   "source": [
    "import json\n",
    "import pickle"
   ]
  },
  {
   "cell_type": "code",
   "execution_count": 2,
   "id": "73eccc399f391fca",
   "metadata": {
    "ExecuteTime": {
     "end_time": "2024-09-23T07:30:11.144635Z",
     "start_time": "2024-09-23T07:30:10.786606Z"
    },
    "collapsed": false
   },
   "outputs": [],
   "source": [
    "instance_id = 'astropy__astropy-12907'\n",
    "REPO_GRAPH_LOC = (\n",
    "    '/home/gangda/workspace/auto-search-agent/graph_encoder/DATA/repo_graphs'\n",
    ")\n",
    "PROJECT_FILE_LOC = (\n",
    "    '/home/gangda/workspace/auto-search-agent/graph_encoder/DATA/repo_structures'\n",
    ")\n",
    "\n",
    "G = pickle.load(open(f'{REPO_GRAPH_LOC}/graph/{instance_id}.pkl', 'rb'))\n",
    "graph_tags = json.load(open(f'{REPO_GRAPH_LOC}/tags/tags_{instance_id}.json', 'r'))\n",
    "project_structure = json.load(open(f'{PROJECT_FILE_LOC}/{instance_id}.json', 'r'))"
   ]
  },
  {
   "cell_type": "code",
   "execution_count": 7,
   "id": "bff1c871a8303f3a",
   "metadata": {
    "ExecuteTime": {
     "end_time": "2024-09-22T23:31:47.860649Z",
     "start_time": "2024-09-22T23:31:47.844480Z"
    },
    "collapsed": false
   },
   "outputs": [],
   "source": [
    "def filter_none_python(structure):\n",
    "    for key, value in list(structure.items()):\n",
    "        if (\n",
    "            'functions' not in value.keys()\n",
    "            and 'classes' not in value.keys()\n",
    "            and 'text' not in value.keys()\n",
    "        ) or not len(value.keys()) == 3:\n",
    "            filter_none_python(value)\n",
    "\n",
    "            if structure[key] == {}:\n",
    "                del structure[key]\n",
    "        else:\n",
    "            if not key.endswith('.py'):\n",
    "                del structure[key]\n",
    "\n",
    "\n",
    "def filter_out_test_files(structure):\n",
    "    \"\"\"filter out test files from the project structure\"\"\"\n",
    "    for key, value in list(structure.items()):\n",
    "        if key.startswith('test'):\n",
    "            del structure[key]\n",
    "        elif isinstance(value, dict):\n",
    "            filter_out_test_files(value)\n",
    "\n",
    "\n",
    "struct = project_structure['structure']\n",
    "filter_none_python(struct)\n",
    "if not project_structure['instance_id'].startswith('pytest'):\n",
    "    filter_out_test_files(struct)"
   ]
  },
  {
   "cell_type": "code",
   "execution_count": 7,
   "id": "bf4130c5a8902184",
   "metadata": {
    "ExecuteTime": {
     "end_time": "2024-09-22T20:00:09.459340Z",
     "start_time": "2024-09-22T20:00:09.451345Z"
    },
    "collapsed": false
   },
   "outputs": [
    {
     "data": {
      "text/plain": "['__init__',\n '__set__',\n '__get__',\n 'set',\n 'set_temp',\n 'reload',\n '__repr__',\n '__str__',\n '__call__',\n '_validate_val',\n '',\n 'ConfigItem']"
     },
     "execution_count": 7,
     "metadata": {},
     "output_type": "execute_result"
    }
   ],
   "source": [
    "search_term = 'ConfigItem'\n",
    "list(G.neighbors(search_term))"
   ]
  },
  {
   "cell_type": "code",
   "execution_count": 8,
   "id": "f9ddd95223f96101",
   "metadata": {
    "ExecuteTime": {
     "end_time": "2024-09-22T20:00:12.633511Z",
     "start_time": "2024-09-22T20:00:12.628513Z"
    },
    "collapsed": false
   },
   "outputs": [
    {
     "name": "stdout",
     "output_type": "stream",
     "text": [
      "['function: separability_matrix', 'function: _coord_matrix', 'function: _cstack', 'function: _cdot', 'function: _separable']\n",
      "['class: CompoundModel', 'function: CompoundModel._make_leaflist', 'function: CompoundModel.traverse_postorder', 'function: CompoundModel._format_expression', 'function: CompoundModel._format_components', 'function: CompoundModel._set_sub_models_and_parameter_units']\n"
     ]
    }
   ],
   "source": [
    "found_loc = [\n",
    "    (\n",
    "        'astropy/modeling/separable.py',\n",
    "        'function: separability_matrix\\nfunction: _coord_matrix\\nfunction: _cstack\\nfunction: _cdot\\nfunction: _separable',\n",
    "    ),\n",
    "    (\n",
    "        'astropy/modeling/core.py',\n",
    "        'class: CompoundModel\\nfunction: CompoundModel._make_leaflist\\nfunction: CompoundModel.traverse_postorder\\nfunction: CompoundModel._format_expression\\nfunction: CompoundModel._format_components\\nfunction: CompoundModel._set_sub_models_and_parameter_units',\n",
    "    ),\n",
    "]\n",
    "\n",
    "for path, item in found_loc:\n",
    "    print(item.splitlines())"
   ]
  },
  {
   "cell_type": "code",
   "execution_count": 35,
   "id": "40237b0f20cc9290",
   "metadata": {
    "ExecuteTime": {
     "end_time": "2024-09-22T21:25:44.271616Z",
     "start_time": "2024-09-22T21:25:44.242470Z"
    },
    "collapsed": false
   },
   "outputs": [
    {
     "data": {
      "text/plain": "Counter({'evaluate': 79,\n         'assert_equal': 59,\n         'from_tree_transform': 51,\n         'to_tree_transform': 51,\n         'input_units': 49,\n         'inverse': 47,\n         '_parameter_units_for_data_units': 42,\n         '__call__': 40,\n         'fit_deriv': 37,\n         'parse': 34,\n         'write': 27,\n         'data': 25,\n         'name': 24,\n         'unit': 24,\n         'ref': 21,\n         'bounding_box': 21,\n         'validate': 20,\n         '__enter__': 18,\n         '__exit__': 18,\n         'value': 18,\n         'from_tree': 18,\n         'to_string': 16,\n         'to_tree': 16,\n         'transform': 15,\n         'match_header': 15,\n         'Conf': 14,\n         'wrapper': 14,\n         '__set__': 13,\n         '__array_finalize__': 13,\n         'represent_as': 13,\n         'to_cartesian': 13,\n         'from_cartesian': 13,\n         'set_jds': 13,\n         '_scale_operation': 12,\n         'to_value': 12,\n         '__getattr__': 12,\n         'get_extensions': 11,\n         'process_lines': 11,\n         '_verify': 11,\n         'output': 11,\n         'to_xml': 11,\n         'return_units': 11,\n         'norm': 10,\n         'prepare_inputs': 10,\n         '__deepcopy__': 9,\n         '_combine_operation': 9,\n         'main': 9,\n         'read': 9,\n         'binoutput': 9,\n         'uncertainty': 8,\n         '_apply': 8,\n         '_construct_from_dict': 8,\n         '_represent_as_dict': 8,\n         'from_representation': 8,\n         'get_cols': 8,\n         '_summary': 8,\n         'binparse': 8,\n         '_check_val_type': 8,\n         'decompose': 8,\n         '_get_unit_name': 8,\n         'cgs': 7,\n         '__array_ufunc__': 7,\n         'convert_input': 7,\n         'new_like': 7,\n         'unit_vectors': 7,\n         'scale_factors': 7,\n         'to': 7,\n         '__copy__': 7,\n         '_diff': 7,\n         '_report': 7,\n         'header': 7,\n         'scale': 7,\n         'ID': 7,\n         'mask': 7,\n         'si': 6,\n         'model': 6,\n         '_repr_latex_': 6,\n         'w': 6,\n         'de_density_scale': 6,\n         '__setstate__': 6,\n         'process_line': 6,\n         'start_line': 6,\n         'columns': 6,\n         'content': 6,\n         '__bytes__': 6,\n         'n_inputs': 6,\n         'n_outputs': 6,\n         'mu': 6,\n         '_format_unit_list': 6,\n         'pixel_bounds': 6,\n         '__quantity_subclass__': 5,\n         't_error': 5,\n         '_set_unit': 5,\n         '__get__': 5,\n         '__bool__': 5,\n         'names': 5,\n         'quantity': 5,\n         'is_equivalent': 5,\n         'efunc': 5,\n         'inv_efunc': 5,\n         'merge': 5,\n         'writeto': 5,\n         '_calculate_datasum': 5,\n         'precision': 5,\n         'epoch': 5,\n         'groups': 5,\n         '_fit_method': 5,\n         'wcs': 5,\n         'uncertainty_type': 5,\n         'supports_correlated': 5,\n         '_data_unit_to_uncertainty_unit': 5,\n         '_propagate_add': 5,\n         '_propagate_subtract': 5,\n         '_propagate_multiply': 5,\n         '_propagate_divide': 5,\n         'sorted_data': 5,\n         'replace_rows': 5,\n         'is_unity': 5,\n         '_parse_unit': 5,\n         '_default_function_unit': 5,\n         '_quantity_class': 5,\n         'get_limits': 5,\n         'pixel_n_dim': 5,\n         'world_n_dim': 5,\n         'array_shape': 5,\n         'pixel_shape': 5,\n         'world_axis_physical_types': 5,\n         'world_axis_units': 5,\n         'axis_correlation_matrix': 5,\n         'system': 4,\n         '__array__': 4,\n         '_make_parser': 4,\n         't_UFLOAT': 4,\n         't_UINT': 4,\n         't_SIGN': 4,\n         'p_sign': 4,\n         'p_error': 4,\n         'formatter': 4,\n         '__set_name__': 4,\n         'cache': 4,\n         'replicate': 4,\n         'register': 4,\n         'default_format': 4,\n         '__radd__': 4,\n         '_affine_params': 4,\n         'from_table': 4,\n         'equivalencies': 4,\n         'update_meta': 4,\n         'colnames': 4,\n         'comment': 4,\n         'tolist': 4,\n         '_ipython_key_completions_': 4,\n         '_prewriteto': 4,\n         '_writedata_internal': 4,\n         'close': 4,\n         '_add_param': 4,\n         '_add_group': 4,\n         'iter_fields_and_params': 4,\n         'params': 4,\n         'domain': 4,\n         'fix_inputs': 4,\n         'inputs': 4,\n         'outputs': 4,\n         'pprint': 4,\n         'x_domain': 4,\n         'y_domain': 4,\n         'x_window': 4,\n         'y_window': 4,\n         '_fcache': 4,\n         'start': 4,\n         'validate_input': 4,\n         'fitness': 4,\n         'get_sortable_arrays': 4,\n         'parent_table': 4,\n         'masked': 4,\n         'in_subfmt': 4,\n         'out_subfmt': 4,\n         '__rtruediv__': 4,\n         '__rlshift__': 4,\n         '_generate_unit_names': 4,\n         '__truediv__': 4,\n         '_supports_invalid_kw': 4,\n         'pixel': 4,\n         'update_spines': 4,\n         'world_axis_names': 4,\n         'pixel_to_world_values': 4,\n         'world_to_pixel_values': 4,\n         'world_axis_object_components': 4,\n         'world_axis_object_classes': 4,\n         '__array_wrap__': 3,\n         'parameters': 3,\n         'z': 3,\n         'lon': 3,\n         'lat': 3,\n         '_represent_as_dict_attrs': 3,\n         '_units': 3,\n         '_compatible_differentials': 3,\n         'to_table': 3,\n         'unregister': 3,\n         'is_flat': 3,\n         'clone': 3,\n         'validator': 3,\n         '_parse_match': 3,\n         'reload': 3,\n         'token': 3,\n         'write_table': 3,\n         'get_type_map_key': 3,\n         'Column': 3,\n         'process_val': 3,\n         'str_vals': 3,\n         '_read_header': 3,\n         'field_specifier': 3,\n         '_update_column_attribute_changed': 3,\n         '_get_index': 3,\n         '_encode_mixins': 3,\n         'flush': 3,\n         'field': 3,\n         '_coldefs': 3,\n         '__del__': 3,\n         'is_image': 3,\n         '_writedata': 3,\n         '_nrows': 3,\n         'update_header': 3,\n         'fromfile': 3,\n         'dump': 3,\n         '__delete__': 3,\n         '__getstate__': 3,\n         'supports_empty_values': 3,\n         'parse_parts': 3,\n         'xtype': 3,\n         'utype': 3,\n         'ucd': 3,\n         'description': 3,\n         'content_role': 3,\n         'content_type': 3,\n         'href': 3,\n         'to_table_column': 3,\n         'from_table_column': 3,\n         'null': 3,\n         'min_inclusive': 3,\n         'max_inclusive': 3,\n         'width': 3,\n         'arraysize': 3,\n         'links': 3,\n         'equinox': 3,\n         'timeorigin': 3,\n         'timescale': 3,\n         'refposition': 3,\n         'iter_groups': 3,\n         'infos': 3,\n         '_add_info': 3,\n         'iter_info': 3,\n         '_evaluate': 3,\n         'rename': 3,\n         'fixed': 3,\n         'bounds': 3,\n         'tied': 3,\n         'eqcons': 3,\n         'ineqcons': 3,\n         'param_names': 3,\n         'objective_function': 3,\n         '_add_fitting_uncertainties': 3,\n         'fwhm': 3,\n         'get_num_coeff': 3,\n         '_generate_coeff_names': 3,\n         'clenshaw': 3,\n         '_convert_uncertainty': 3,\n         'stop': 3,\n         'declare_subscriptions': 3,\n         'declare_metadata': 3,\n         'func': 3,\n         'shift_left': 3,\n         'shift_right': 3,\n         'same_prefix': 3,\n         '_base_repr_': 3,\n         '_repr_html_': 3,\n         'insert_row': 3,\n         'remove_rows': 3,\n         'common_dtype': 3,\n         'add_column': 3,\n         '_convert_col_for_table': 3,\n         'jd1': 3,\n         'jd2': 3,\n         'parse_string': 3,\n         '_initialize_module': 3,\n         'enable': 3,\n         'aliases': 3,\n         '_get_physical_type_id': 3,\n         'convert': 3,\n         '_get_converter': 3,\n         'physical_type': 3,\n         'to_vel_freq': 3,\n         'from_vel_freq': 3,\n         'to_vel_wav': 3,\n         'from_vel_wav': 3,\n         'to_vel_en': 3,\n         'from_vel_en': 3,\n         '_make_lexer': 3,\n         't_UNIT': 3,\n         'p_main': 3,\n         'p_product_of_units': 3,\n         'p_unit_expression': 3,\n         'p_numeric_power': 3,\n         'p_signed_int': 3,\n         'p_signed_float': 3,\n         '_get_unit': 3,\n         'format_exponential_notation': 3,\n         '_to_decomposed_alternative': 3,\n         '__pow__': 3,\n         'flat': 3,\n         '__array_function__': 3,\n         'ut1_utc_source': 3,\n         'dcip_source': 3,\n         'pm_source': 3,\n         'map_intensity_to_uint8': 3,\n         'set_visible_axes': 3,\n         'get_visible_axes': 3,\n         'locator': 3,\n         '_update_patch_path': 3,\n         'serialized_classes': 3,\n         'low_level_wcs': 3,\n         'pixel_axis_names': 3,\n         'set_temp': 2,\n         'reset': 2,\n         'dimension': 2,\n         'separable': 2,\n         'position_angle': 2,\n         'plain_unit_format': 2,\n         'wrap_angle': 2,\n         'getter': 2,\n         'differential_type': 2,\n         'transform_to': 2,\n         'is_transformable_to': 2,\n         'is_equivalent_frame': 2,\n         'apply_method': 2,\n         'separation': 2,\n         'separation_3d': 2,\n         'radial_velocity': 2,\n         '_precession_matrix': 2,\n         'distmod': 2,\n         'parallax': 2,\n         'ellipsoid': 2,\n         'height': 2,\n         '_to_value': 2,\n         'apco': 2,\n         'apcs': 2,\n         'UnitsError': 2,\n         'ConvertError': 2,\n         'get_constellation': 2,\n         'search_around_3d': 2,\n         'search_around_sky': 2,\n         '_array2string': 2,\n         'get_name': 2,\n         '_unitstr': 2,\n         'distance': 2,\n         'phi': 2,\n         '_get_base_vectors': 2,\n         '_dimensional_differential': 2,\n         'representation_type': 2,\n         'representation': 2,\n         'observer': 2,\n         'target': 2,\n         'doppler_rest': 2,\n         'doppler_convention': 2,\n         'CoordinateTransform': 2,\n         'finite_difference_frameattr_name': 2,\n         'CompositeTransform': 2,\n         'single_transform': 2,\n         '__equiv__': 2,\n         'Otot0': 2,\n         'Otot': 2,\n         'phi_z': 2,\n         'f': 2,\n         'representer': 2,\n         'constructor': 2,\n         'Parameter': 2,\n         'Section': 2,\n         '_initialise': 2,\n         '_interpolate': 2,\n         '_getval': 2,\n         '_unquote': 2,\n         'check': 2,\n         'PlyLogger': 2,\n         'warning': 2,\n         'NullLogger': 2,\n         'get_caller_module_dict': 2,\n         'get_all': 2,\n         'validate_all': 2,\n         'get_tokens': 2,\n         'validate_tokens': 2,\n         'lex': 2,\n         'errok': 2,\n         'restart': 2,\n         'bind': 2,\n         'read_table': 2,\n         'traverse': 2,\n         'yacc': 2,\n         'write_header': 2,\n         'inconsistent_handler': 2,\n         '_check_multidim_table': 2,\n         'ParameterError': 2,\n         '_set_cols_from_names': 2,\n         'write_comments': 2,\n         'remove_columns': 2,\n         'rename_column': 2,\n         'get_col_type': 2,\n         'get_data_lines': 2,\n         '_set_fill_values': 2,\n         '_convert_vals': 2,\n         'rename_columns': 2,\n         'update_table_data': 2,\n         'format_col_item': 2,\n         'make_table': 2,\n         'get_fixedwidth_params': 2,\n         'end_line': 2,\n         'Latex': 2,\n         'get_reader': 2,\n         'get_writer': 2,\n         'keyword': 2,\n         '_format_value': 2,\n         'from_column_format': 2,\n         'from_recformat': 2,\n         'recformat': 2,\n         'canonical': 2,\n         'tform': 2,\n         '_convert_format': 2,\n         'formats': 2,\n         '_recformats': 2,\n         'add_col': 2,\n         'del_col': 2,\n         'setfield': 2,\n         'from_columns': 2,\n         '_get_raw_data': 2,\n         'ver': 2,\n         'level': 2,\n         'block_iter': 2,\n         '_writeheader': 2,\n         '_close': 2,\n         'verify': 2,\n         'fileinfo': 2,\n         '_update': 2,\n         '_relativeinsert': 2,\n         'compressed_data': 2,\n         '_dtype_for_bitpix': 2,\n         '_update_header_scale_info': 2,\n         'Group': 2,\n         'parnames': 2,\n         '_unique': 2,\n         'par': 2,\n         '_theap': 2,\n         '_get_tbdata': 2,\n         '_update_column_removed': 2,\n         'format_value': 2,\n         '_modified': 2,\n         'tostring': 2,\n         'tofile': 2,\n         'handle_options': 2,\n         'setup_logging': 2,\n         '_parse_internal': 2,\n         '_notify': 2,\n         '_is_int': 2,\n         'types': 2,\n         'from_tree_tagged': 2,\n         'to_tree_tagged': 2,\n         'Planar2D': 2,\n         'BlackBody': 2,\n         'get_formats': 2,\n         'registry': 2,\n         'is_votable': 2,\n         '_ensure_bigendian': 2,\n         'parse_scalar': 2,\n         '_binparse_var': 2,\n         '_binparse_fixed': 2,\n         '_binoutput_var': 2,\n         '_binoutput_fixed': 2,\n         '_splitter_pedantic': 2,\n         '_splitter_lax': 2,\n         'get_converter': 2,\n         'check_ucd': 2,\n         '_setup': 2,\n         'datatype': 2,\n         'get_ref': 2,\n         'Table': 2,\n         '_add_link': 2,\n         'coordinate_systems': 2,\n         'time_systems': 2,\n         'resources': 2,\n         '_add_coosys': 2,\n         '_add_timesys': 2,\n         '_add_resource': 2,\n         'iter_tables': 2,\n         'iter_coosys': 2,\n         'iter_timesys': 2,\n         'version': 2,\n         'validate_vo': 2,\n         'check_id': 2,\n         'fix_id': 2,\n         'check_token': 2,\n         'check_mime_content_type': 2,\n         'check_anyuri': 2,\n         'validate_schema': 2,\n         'emit': 2,\n         'get_index': 2,\n         'prepare_outputs': 2,\n         '_validate': 2,\n         'get_selector': 2,\n         'pretty_repr': 2,\n         'is_argument': 2,\n         'named_tuple': 2,\n         'selector_args': 2,\n         'input_units_strict': 2,\n         'input_units_allow_dimensionless': 2,\n         '_pre_evaluate': 2,\n         '_argnames': 2,\n         '_post_evaluate': 2,\n         'sync_constraints': 2,\n         'has_user_bounding_box': 2,\n         'cov_matrix': 2,\n         'stds': 2,\n         'without_units_for_data': 2,\n         'with_units_from_data': 2,\n         'sum_of_implicit_terms': 2,\n         'render': 2,\n         'n_submodels': 2,\n         '_initialize_slices': 2,\n         'model_to_fit_params': 2,\n         'tau': 2,\n         'Mapping': 2,\n         'mapping': 2,\n         'maxiter': 2,\n         'eps': 2,\n         'acc': 2,\n         'default': 2,\n         'internal_unit': 2,\n         'prior': 2,\n         'posterior': 2,\n         'degree': 2,\n         '_invlex': 2,\n         'window': 2,\n         'invlex_coeff': 2,\n         'lam': 2,\n         '_n_inputs_outputs': 2,\n         '_init_parameters': 2,\n         '_init_data': 2,\n         't': 2,\n         'c': 2,\n         'tck': 2,\n         'bspline': 2,\n         'user_knots': 2,\n         '_set_fit_info': 2,\n         '_arithmetic': 2,\n         'decorator': 2,\n         '_slice_wcs': 2,\n         'flags': 2,\n         'convert_unit_to': 2,\n         'meta': 2,\n         'parent_nddata': 2,\n         'is_running': 2,\n         '_serve_forever': 2,\n         '_ping': 2,\n         'receive_notification': 2,\n         'receive_call': 2,\n         'receive_response': 2,\n         'bind_receive_message': 2,\n         'bind_receive_notification': 2,\n         'bind_receive_call': 2,\n         'bind_receive_response': 2,\n         'unbind_receive_notification': 2,\n         'unbind_receive_call': 2,\n         'unbind_receive_response': 2,\n         '_set_xmlrpc_callback': 2,\n         '_declare_subscriptions': 2,\n         'get_private_key': 2,\n         'get_public_id': 2,\n         'is_connected': 2,\n         'connect': 2,\n         'disconnect': 2,\n         'ping': 2,\n         'get_metadata': 2,\n         'get_subscriptions': 2,\n         'get_registered_clients': 2,\n         'get_subscribed_clients': 2,\n         'notify': 2,\n         'notify_all': 2,\n         'call': 2,\n         'call_all': 2,\n         'call_and_wait': 2,\n         'reply': 2,\n         'do_GET': 2,\n         'BoxLeastSquares': 2,\n         'BoxLeastSquaresResults': 2,\n         'eqn8': 2,\n         'eqn7': 2,\n         'eqn9_left': 2,\n         'find_s_min': 2,\n         'LombScargle': 2,\n         'area': 2,\n         'y_max': 2,\n         'x_max': 2,\n         'y_min': 2,\n         'x_min': 2,\n         'poisson': 2,\n         'Node': 2,\n         '_compare': 2,\n         'descr': 2,\n         'iter_str_vals': 2,\n         'pformat': 2,\n         'more': 2,\n         'group_by': 2,\n         'fill_value': 2,\n         'aggregate': 2,\n         'replace_col': 2,\n         'col_position': 2,\n         'get_row_specifier': 2,\n         'remove_row': 2,\n         'get_col_name_map': 2,\n         'get_descrs': 2,\n         'join_func': 2,\n         'itercols': 2,\n         '_Context': 2,\n         '_is_mixin_for_table': 2,\n         'add_columns': 2,\n         'to_pandas': 2,\n         'from_pandas': 2,\n         'writeable': 2,\n         '_set_scale': 2,\n         '_make_value_equivalent': 2,\n         'to_datetime': 2,\n         '_check_scale': 2,\n         'autopower': 2,\n         '_as_relative_time': 2,\n         '_validate_inputs': 2,\n         'false_alarm_probability': 2,\n         'false_alarm_level': 2,\n         'design_matrix': 2,\n         'distribution': 2,\n         'compute_power': 2,\n         'view': 2,\n         '_normalize_equivalencies': 2,\n         'set_enabled_units': 2,\n         'add_enabled_units': 2,\n         'set_enabled_equivalencies': 2,\n         'add_enabled_equivalencies': 2,\n         'set_enabled_aliases': 2,\n         'add_enabled_aliases': 2,\n         'bases': 2,\n         'powers': 2,\n         '__rrshift__': 2,\n         'get_format_name': 2,\n         'represents': 2,\n         'spectral': 2,\n         'converter': 2,\n         'convert_Jy_to_K': 2,\n         'convert_K_to_Jy': 2,\n         '_parser': 2,\n         '_lexer': 2,\n         't_X': 2,\n         'p_factor': 2,\n         'p_unit_with_power': 2,\n         '_format_superscript': 2,\n         '_validate_unit': 2,\n         'p_unit': 2,\n         'p_product': 2,\n         'p_division': 2,\n         'p_power': 2,\n         '_format_bases': 2,\n         'from_physical': 2,\n         'to_physical': 2,\n         '_wrap_function': 2,\n         '__next__': 2,\n         '_recursively_apply': 2,\n         '_not_implemented_or_raise': 2,\n         'download_file': 2,\n         '_check_interpolate_indices': 2,\n         '_refresh_table_as_needed': 2,\n         '_substitute_iers_b': 2,\n         'from_unmasked': 2,\n         '_get_masked_cls': 2,\n         '_get_data_and_masks': 2,\n         'unmasked': 2,\n         '_has_hidden_attribute': 2,\n         'end': 2,\n         'default_units': 2,\n         'axisinfo': 2,\n         'grid': 2,\n         '_draw_ticks': 2,\n         'display_minor_ticks': 2,\n         'format_unit': 2,\n         'decimal': 2,\n         'sep': 2,\n         'base_spacing': 2,\n         'world': 2,\n         'same_frames': 2,\n         'input_dims': 2,\n         'output_dims': 2,\n         'inverted': 2,\n         'proj_plane_pixel_scales': 2,\n         'proj_plane_pixel_area': 2,\n         'pixel_to_world': 2,\n         'world_to_pixel': 2,\n         '_as_mpl_axes': 2,\n         '_is_astropy_source': 1,\n         'base_constants_version': 1,\n         'physical_constants': 1,\n         'astronomical_constants': 1,\n         '_initialize_astropy': 1,\n         '_get_bibtex': 1,\n         'online_help': 1,\n         'InvalidConfigurationItemWarning': 1,\n         'ConfigurationMissingWarning': 1,\n         'ConfigurationDefaultMissingError': 1,\n         'ConfigurationDefaultMissingWarning': 1,\n         'ConfigurationChangedWarning': 1,\n         '_ConfigNamespaceMeta': 1,\n         'ConfigNamespace': 1,\n         'ConfigItem': 1,\n         'section_name': 1,\n         '_validate_val': 1,\n         'get_config_filename': 1,\n         'get_config': 1,\n         'generate_config': 1,\n         'reload_config': 1,\n         'is_unedited_config_file': 1,\n         'update_default_config': 1,\n         'create_config_file': 1,\n         '_find_home': 1,\n         'get_config_dir': 1,\n         'get_cache_dir': 1,\n         '_SetTempPath': 1,\n         'set_temp_config': 1,\n         'set_temp_cache': 1,\n         '_find_or_create_root_dir': 1,\n         'CODATA2010': 1,\n         'EMCODATA2010': 1,\n         'CODATA2014': 1,\n         'EMCODATA2014': 1,\n         'CODATA2018': 1,\n         'EMCODATA2018': 1,\n         'ConstantMeta': 1,\n         'wrap': 1,\n         'Constant': 1,\n         'abbrev': 1,\n         '_unit': 1,\n         'reference': 1,\n         '_instance_or_super': 1,\n         'EMConstant': 1,\n         'IAU2012': 1,\n         'IAU2015': 1,\n         '_get_c': 1,\n         '_set_c': 1,\n         '_next_fast_lengths': 1,\n         '_copy_input_if_needed': 1,\n         'convolve_fft': 1,\n         'interpolate_replace_nans': 1,\n         'convolve_models': 1,\n         'convolve_models_fft': 1,\n         'Kernel': 1,\n         'truncation': 1,\n         'is_bool': 1,\n         'normalize': 1,\n         'Kernel1D': 1,\n         'Kernel2D': 1,\n         'kernel_arithmetics': 1,\n         '_round_up_to_odd_integer': 1,\n         'Gaussian1DKernel': 1,\n         'Gaussian2DKernel': 1,\n         'Box1DKernel': 1,\n         'Box2DKernel': 1,\n         'Tophat2DKernel': 1,\n         'Ring2DKernel': 1,\n         'Trapezoid1DKernel': 1,\n         'TrapezoidDisk2DKernel': 1,\n         'RickerWavelet1DKernel': 1,\n         'RickerWavelet2DKernel': 1,\n         'AiryDisk2DKernel': 1,\n         'Moffat2DKernel': 1,\n         'Model1DKernel': 1,\n         'Model2DKernel': 1,\n         'PSFKernel': 1,\n         'CustomKernel': 1,\n         'MexicanHat1DKernel': 1,\n         'MexicanHat2DKernel': 1,\n         'DiscretizationError': 1,\n         'KernelSizeError': 1,\n         'has_even_axis': 1,\n         'raise_even_kernel_exception': 1,\n         'add_kernel_arrays_1D': 1,\n         'add_kernel_arrays_2D': 1,\n         'discretize_model': 1,\n         'discretize_center_1D': 1,\n         'discretize_center_2D': 1,\n         'discretize_linear_1D': 1,\n         'discretize_bilinear_2D': 1,\n         'discretize_oversample_1D': 1,\n         'discretize_oversample_2D': 1,\n         'discretize_integrate_1D': 1,\n         'discretize_integrate_2D': 1,\n         '_AngleParser': 1,\n         '_get_simple_unit_names': 1,\n         't_EASTWEST': 1,\n         't_NORTHSOUTH': 1,\n         't_SIMPLE_UNIT': 1,\n         'p_angle': 1,\n         'p_eastwest': 1,\n         'p_dir': 1,\n         'p_ufloat': 1,\n         'p_colon': 1,\n         'p_spaced': 1,\n         'p_generic': 1,\n         'p_hms': 1,\n         'p_dms': 1,\n         'p_simple': 1,\n         'p_arcsecond': 1,\n         'p_arcminute': 1,\n         '_check_hour_range': 1,\n         '_check_minute_range': 1,\n         '_check_second_range': 1,\n         'check_hms_ranges': 1,\n         'parse_angle': 1,\n         'degrees_to_dms': 1,\n         'dms_to_degrees': 1,\n         'hms_to_hours': 1,\n         'hms_to_degrees': 1,\n         'hms_to_radians': 1,\n         'hms_to_dms': 1,\n         'hours_to_decimal': 1,\n         'hours_to_radians': 1,\n         'hours_to_hms': 1,\n         'radians_to_degrees': 1,\n         'radians_to_hours': 1,\n         'radians_to_hms': 1,\n         'radians_to_dms': 1,\n         'sexagesimal_to_string': 1,\n         'hours_to_string': 1,\n         'degrees_to_string': 1,\n         'angular_separation': 1,\n         'offset_by': 1,\n         'golden_spiral_grid': 1,\n         'uniform_spherical_random_surface': 1,\n         'uniform_spherical_random_volume': 1,\n         'Angle': 1,\n         '_tuple_to_float': 1,\n         '_convert_unit_to_angle_unit': 1,\n         'hour': 1,\n         'hms': 1,\n         'dms': 1,\n         'signed_dms': 1,\n         'do_format': 1,\n         '_wrap_at': 1,\n         'wrap_at': 1,\n         'is_within_bounds': 1,\n         '_str_helper': 1,\n         '_no_angle_subclass': 1,\n         'Latitude': 1,\n         '_validate_angles': 1,\n         'LongitudeInfo': 1,\n         'Longitude': 1,\n         'Attribute': 1,\n         'TimeAttribute': 1,\n         'CartesianRepresentationAttribute': 1,\n         'QuantityAttribute': 1,\n         'EarthLocationAttribute': 1,\n         'CoordinateAttribute': 1,\n         'DifferentialAttribute': 1,\n         '_get_repr_cls': 1,\n         '_get_diff_cls': 1,\n         '_get_repr_classes': 1,\n         'RepresentationMapping': 1,\n         'BaseCoordinateFrame': 1,\n         '_infer_representation': 1,\n         '_infer_data': 1,\n         '_infer_repr_info': 1,\n         '_create_readonly_property': 1,\n         'has_data': 1,\n         'get_frame_attr_names': 1,\n         'get_representation_cls': 1,\n         'set_representation_cls': 1,\n         '_get_representation_info': 1,\n         'representation_info': 1,\n         'get_representation_component_names': 1,\n         'get_representation_component_units': 1,\n         '_replicate': 1,\n         'replicate_without_data': 1,\n         'realize_frame': 1,\n         'is_frame_attr_default': 1,\n         '_frameattr_equiv': 1,\n         '_data_repr': 1,\n         '_frame_attrs_repr': 1,\n         'cartesian': 1,\n         'cylindrical': 1,\n         'spherical': 1,\n         'sphericalcoslat': 1,\n         'velocity': 1,\n         'proper_motion': 1,\n         'GenericFrame': 1,\n         'make_transform_graph_docs': 1,\n         'AltAz': 1,\n         'secz': 1,\n         'zen': 1,\n         'BaseRADecFrame': 1,\n         'CIRS': 1,\n         'cirs_to_observed': 1,\n         'observed_to_cirs': 1,\n         'BaseEclipticFrame': 1,\n         'GeocentricMeanEcliptic': 1,\n         'GeocentricTrueEcliptic': 1,\n         'BarycentricMeanEcliptic': 1,\n         'BarycentricTrueEcliptic': 1,\n         'HeliocentricMeanEcliptic': 1,\n         'HeliocentricTrueEcliptic': 1,\n         'HeliocentricEclipticIAU76': 1,\n         'CustomBarycentricEcliptic': 1,\n         '_mean_ecliptic_rotation_matrix': 1,\n         '_true_ecliptic_rotation_matrix': 1,\n         '_obliquity_only_rotation_matrix': 1,\n         'gcrs_to_geoecliptic': 1,\n         'geoecliptic_to_gcrs': 1,\n         'icrs_to_baryecliptic': 1,\n         'baryecliptic_to_icrs': 1,\n         'icrs_to_helioecliptic': 1,\n         'helioecliptic_to_icrs': 1,\n         'gcrs_to_true_geoecliptic': 1,\n         'true_geoecliptic_to_gcrs': 1,\n         'icrs_to_true_baryecliptic': 1,\n         'true_baryecliptic_to_icrs': 1,\n         'icrs_to_true_helioecliptic': 1,\n         'true_helioecliptic_to_icrs': 1,\n         'ecliptic_to_iau76_icrs': 1,\n         'icrs_to_iau76_ecliptic': 1,\n         'icrs_to_custombaryecliptic': 1,\n         'custombaryecliptic_to_icrs': 1,\n         'TETE': 1,\n         'TEME': 1,\n         'FK4': 1,\n         'fk4_to_fk4': 1,\n         'FK4NoETerms': 1,\n         'fk4noe_to_fk4noe': 1,\n         'fk4_e_terms': 1,\n         'fk4_to_fk4_no_e': 1,\n         'fk4_no_e_to_fk4': 1,\n         '_fk4_B_matrix': 1,\n         'fk4_no_e_to_fk5': 1,\n         'fk5_to_fk4_no_e': 1,\n         'FK5': 1,\n         'fk5_to_fk5': 1,\n         'Galactic': 1,\n         'fk5_to_gal': 1,\n         '_gal_to_fk5': 1,\n         'fk4_to_gal': 1,\n         'gal_to_fk4': 1,\n         '_StateProxy': 1,\n         'galactocentric_frame_defaults': 1,\n         'references': 1,\n         'get_from_registry': 1,\n         'get_solar_params_from_string': 1,\n         'Galactocentric': 1,\n         'get_roll0': 1,\n         'get_matrix_vectors': 1,\n         '_check_coord_repr_diff_types': 1,\n         'icrs_to_galactocentric': 1,\n         'galactocentric_to_icrs': 1,\n         'GCRS': 1,\n         'PrecessedGeocentric': 1,\n         'HADec': 1,\n         '_set_data_lon_wrap_angle': 1,\n         'HCRS': 1,\n         'ICRS': 1,\n         'icrs_to_cirs': 1,\n         'cirs_to_icrs': 1,\n         'icrs_to_gcrs': 1,\n         'gcrs_to_icrs': 1,\n         'gcrs_to_hcrs': 1,\n         'hcrs_to_icrs': 1,\n         'icrs_to_hcrs': 1,\n         '_icrs_to_fk5_matrix': 1,\n         'icrs_to_fk5': 1,\n         'fk5_to_icrs': 1,\n         'icrs_to_observed': 1,\n         'observed_to_icrs': 1,\n         'teme_to_itrs_mat': 1,\n         'gcrs_to_cirs_mat': 1,\n         'cirs_to_itrs_mat': 1,\n         'tete_to_itrs_mat': 1,\n         'gcrs_precession_mat': 1,\n         'get_location_gcrs': 1,\n         'gcrs_to_tete': 1,\n         'tete_to_gcrs': 1,\n         'tete_to_itrs': 1,\n         'itrs_to_tete': 1,\n         'gcrs_to_cirs': 1,\n         'cirs_to_gcrs': 1,\n         'cirs_to_itrs': 1,\n         'itrs_to_cirs': 1,\n         'gcrs_to_precessedgeo': 1,\n         'precessedgeo_to_gcrs': 1,\n         'teme_to_itrs': 1,\n         'itrs_to_teme': 1,\n         'ITRS': 1,\n         'earth_location': 1,\n         'LSR': 1,\n         ...})"
     },
     "execution_count": 35,
     "metadata": {},
     "output_type": "execute_result"
    }
   ],
   "source": [
    "from collections import Counter\n",
    "\n",
    "tags, names = [], []\n",
    "for tag in graph_tags:\n",
    "    if tag['kind'] == 'def':\n",
    "        tags.append(tag)\n",
    "        names.append(tag['name'])\n",
    "\n",
    "for tag in tags:\n",
    "    if tag['name'] == 'token':\n",
    "        print(tag['info'])\n",
    "\n",
    "Counter(names)"
   ]
  },
  {
   "cell_type": "code",
   "execution_count": 36,
   "id": "692599bbbbe7b0c5",
   "metadata": {
    "ExecuteTime": {
     "end_time": "2024-09-22T21:34:29.285109Z",
     "start_time": "2024-09-22T21:34:29.277161Z"
    },
    "collapsed": false
   },
   "outputs": [],
   "source": [
    "tags, names = [], []\n",
    "for tag in graph_tags:\n",
    "    if tag['kind'] == 'ref' and tag['name'] == 'token':\n",
    "        tags.append(tag)\n",
    "        names.append(tag['name'])"
   ]
  },
  {
   "cell_type": "code",
   "execution_count": 39,
   "id": "aa1574b4a16cb335",
   "metadata": {
    "ExecuteTime": {
     "end_time": "2024-09-22T21:34:57.817224Z",
     "start_time": "2024-09-22T21:34:57.810825Z"
    },
    "collapsed": false
   },
   "outputs": [
    {
     "data": {
      "text/plain": "[{'fname': 'playground/b4bffafa-6319-41e4-a4f0-81e61108195c/astropy/astropy/extern/ply/cpp.py',\n  'rel_fname': 'astropy/extern/ply/cpp.py',\n  'line': 185,\n  'name': 'token',\n  'kind': 'ref',\n  'category': 'function',\n  'info': '            tok = self.lexer.token()\\n'},\n {'fname': 'playground/b4bffafa-6319-41e4-a4f0-81e61108195c/astropy/astropy/extern/ply/cpp.py',\n  'rel_fname': 'astropy/extern/ply/cpp.py',\n  'line': 212,\n  'name': 'token',\n  'kind': 'ref',\n  'category': 'function',\n  'info': '        tok = self.lexer.token()\\n'},\n {'fname': 'playground/b4bffafa-6319-41e4-a4f0-81e61108195c/astropy/astropy/extern/ply/cpp.py',\n  'rel_fname': 'astropy/extern/ply/cpp.py',\n  'line': 220,\n  'name': 'token',\n  'kind': 'ref',\n  'category': 'function',\n  'info': '        tok = self.lexer.token()\\n'},\n {'fname': 'playground/b4bffafa-6319-41e4-a4f0-81e61108195c/astropy/astropy/extern/ply/cpp.py',\n  'rel_fname': 'astropy/extern/ply/cpp.py',\n  'line': 229,\n  'name': 'token',\n  'kind': 'ref',\n  'category': 'function',\n  'info': '        tok = self.lexer.token()\\n'},\n {'fname': 'playground/b4bffafa-6319-41e4-a4f0-81e61108195c/astropy/astropy/extern/ply/cpp.py',\n  'rel_fname': 'astropy/extern/ply/cpp.py',\n  'line': 237,\n  'name': 'token',\n  'kind': 'ref',\n  'category': 'function',\n  'info': '        tok = self.lexer.token()\\n'},\n {'fname': 'playground/b4bffafa-6319-41e4-a4f0-81e61108195c/astropy/astropy/extern/ply/cpp.py',\n  'rel_fname': 'astropy/extern/ply/cpp.py',\n  'line': 245,\n  'name': 'token',\n  'kind': 'ref',\n  'category': 'function',\n  'info': '        tok = self.lexer.token()\\n'},\n {'fname': 'playground/b4bffafa-6319-41e4-a4f0-81e61108195c/astropy/astropy/extern/ply/cpp.py',\n  'rel_fname': 'astropy/extern/ply/cpp.py',\n  'line': 258,\n  'name': 'token',\n  'kind': 'ref',\n  'category': 'function',\n  'info': '            tok = self.lexer.token()\\n'},\n {'fname': 'playground/b4bffafa-6319-41e4-a4f0-81e61108195c/astropy/astropy/extern/ply/cpp.py',\n  'rel_fname': 'astropy/extern/ply/cpp.py',\n  'line': 296,\n  'name': 'token',\n  'kind': 'ref',\n  'category': 'function',\n  'info': '            tok = lex.token()\\n'},\n {'fname': 'playground/b4bffafa-6319-41e4-a4f0-81e61108195c/astropy/astropy/extern/ply/cpp.py',\n  'rel_fname': 'astropy/extern/ply/cpp.py',\n  'line': 911,\n  'name': 'token',\n  'kind': 'ref',\n  'category': 'function',\n  'info': '        tok = p.token()\\n'},\n {'fname': 'playground/b4bffafa-6319-41e4-a4f0-81e61108195c/astropy/astropy/extern/ply/lex.py',\n  'rel_fname': 'astropy/extern/ply/lex.py',\n  'line': 418,\n  'name': 'token',\n  'kind': 'ref',\n  'category': 'function',\n  'info': '        t = self.token()\\n'}]"
     },
     "execution_count": 39,
     "metadata": {},
     "output_type": "execute_result"
    }
   ],
   "source": [
    "tags"
   ]
  },
  {
   "cell_type": "code",
   "execution_count": 34,
   "id": "bd55b54c6bdac653",
   "metadata": {
    "ExecuteTime": {
     "end_time": "2024-09-22T21:09:44.986087Z",
     "start_time": "2024-09-22T21:09:44.979442Z"
    },
    "collapsed": false
   },
   "outputs": [
    {
     "name": "stdout",
     "output_type": "stream",
     "text": [
      "    def token(self):\n",
      "        try:\n",
      "            while True:\n",
      "                tok = next(self.parser)\n",
      "                if tok.type not in self.ignore: return tok\n",
      "        except StopIteration:\n",
      "            self.parser = None\n",
      "            return None\n",
      "\n",
      "\n",
      "    def token(self):\n",
      "        # Make local copies of frequently referenced attributes\n",
      "        lexpos    = self.lexpos\n",
      "        lexlen    = self.lexlen\n",
      "        lexignore = self.lexignore\n",
      "        lexdata   = self.lexdata\n",
      "\n",
      "        while lexpos < lexlen:\n",
      "            # This code provides some short-circuit code for whitespace, tabs, and other ignored characters\n",
      "            if lexdata[lexpos] in lexignore:\n",
      "                lexpos += 1\n",
      "                continue\n",
      "\n",
      "            # Look for a regular expression match\n",
      "            for lexre, lexindexfunc in self.lexre:\n",
      "                m = lexre.match(lexdata, lexpos)\n",
      "                if not m:\n",
      "                    continue\n",
      "\n",
      "                # Create a token for return\n",
      "                tok = LexToken()\n",
      "                tok.value = m.group()\n",
      "                tok.lineno = self.lineno\n",
      "                tok.lexpos = lexpos\n",
      "\n",
      "                i = m.lastindex\n",
      "                func, tok.type = lexindexfunc[i]\n",
      "\n",
      "                if not func:\n",
      "                    # If no token type was set, it's an ignored token\n",
      "                    if tok.type:\n",
      "                        self.lexpos = m.end()\n",
      "                        return tok\n",
      "                    else:\n",
      "                        lexpos = m.end()\n",
      "                        break\n",
      "\n",
      "                lexpos = m.end()\n",
      "\n",
      "                # If token is processed by a function, call it\n",
      "\n",
      "                tok.lexer = self      # Set additional attributes useful in token rules\n",
      "                self.lexmatch = m\n",
      "                self.lexpos = lexpos\n",
      "\n",
      "                newtok = func(tok)\n",
      "\n",
      "                # Every function must return a token, if nothing, we just move to next token\n",
      "                if not newtok:\n",
      "                    lexpos    = self.lexpos         # This is here in case user has updated lexpos.\n",
      "                    lexignore = self.lexignore      # This is here in case there was a state change\n",
      "                    break\n",
      "\n",
      "                # Verify type of the token.  If not in the token map, raise an error\n",
      "                if not self.lexoptimize:\n",
      "                    if newtok.type not in self.lextokens_all:\n",
      "                        raise LexError(\"%s:%d: Rule '%s' returned an unknown token type '%s'\" % (\n",
      "                            func.__code__.co_filename, func.__code__.co_firstlineno,\n",
      "                            func.__name__, newtok.type), lexdata[lexpos:])\n",
      "\n",
      "                return newtok\n",
      "            else:\n",
      "                # No match, see if in literals\n",
      "                if lexdata[lexpos] in self.lexliterals:\n",
      "                    tok = LexToken()\n",
      "                    tok.value = lexdata[lexpos]\n",
      "                    tok.lineno = self.lineno\n",
      "                    tok.type = tok.value\n",
      "                    tok.lexpos = lexpos\n",
      "                    self.lexpos = lexpos + 1\n",
      "                    return tok\n",
      "\n",
      "                # No match. Call t_error() if defined.\n",
      "                if self.lexerrorf:\n",
      "                    tok = LexToken()\n",
      "                    tok.value = self.lexdata[lexpos:]\n",
      "                    tok.lineno = self.lineno\n",
      "                    tok.type = 'error'\n",
      "                    tok.lexer = self\n",
      "                    tok.lexpos = lexpos\n",
      "                    self.lexpos = lexpos\n",
      "                    newtok = self.lexerrorf(tok)\n",
      "                    if lexpos == self.lexpos:\n",
      "                        # Error method didn't change text position at all. This is an error.\n",
      "                        raise LexError(\"Scanning error. Illegal character '%s'\" % (lexdata[lexpos]), lexdata[lexpos:])\n",
      "                    lexpos = self.lexpos\n",
      "                    if not newtok:\n",
      "                        continue\n",
      "                    return newtok\n",
      "\n",
      "                self.lexpos = lexpos\n",
      "                raise LexError(\"Illegal character '%s' at index %d\" % (lexdata[lexpos], lexpos), lexdata[lexpos:])\n",
      "\n",
      "        if self.lexeoff:\n",
      "            tok = LexToken()\n",
      "            tok.type = 'eof'\n",
      "            tok.value = ''\n",
      "            tok.lineno = self.lineno\n",
      "            tok.lexpos = lexpos\n",
      "            tok.lexer = self\n",
      "            self.lexpos = lexpos\n",
      "            newtok = self.lexeoff(tok)\n",
      "            return newtok\n",
      "\n",
      "        self.lexpos = lexpos + 1\n",
      "        if self.lexdata is None:\n",
      "            raise RuntimeError('No input string given with input()')\n",
      "        return None\n",
      "\n",
      "    # Iterator interface\n",
      "    def __iter__(self):\n",
      "        return self\n",
      "\n",
      "    def next(self):\n",
      "        t = self.token()\n",
      "        if t is None:\n",
      "            raise StopIteration\n",
      "        return t\n",
      "\n",
      "    __next__ = next\n",
      "\n",
      "\n",
      "def token():\n",
      "    warnings.warn(_warnmsg)\n",
      "    return _token()\n"
     ]
    }
   ],
   "source": []
  },
  {
   "cell_type": "markdown",
   "id": "f0e90219cc95b95f",
   "metadata": {
    "collapsed": false
   },
   "source": [
    "Def -> Node feature\n",
    "Ref -> Edge"
   ]
  },
  {
   "cell_type": "code",
   "execution_count": 32,
   "id": "642f346285d9609a",
   "metadata": {
    "ExecuteTime": {
     "end_time": "2024-09-22T20:13:03.225905Z",
     "start_time": "2024-09-22T20:13:03.220824Z"
    },
    "collapsed": false
   },
   "outputs": [
    {
     "data": {
      "text/plain": "{'category': 'function',\n 'info': 'def token():\\n    warnings.warn(_warnmsg)\\n    return _token()\\n\\n',\n 'fname': 'playground/b4bffafa-6319-41e4-a4f0-81e61108195c/astropy/astropy/extern/ply/yacc.py',\n 'line': 181,\n 'kind': 'def'}"
     },
     "execution_count": 32,
     "metadata": {},
     "output_type": "execute_result"
    }
   ],
   "source": [
    "G.nodes['token']"
   ]
  },
  {
   "cell_type": "code",
   "execution_count": 40,
   "id": "474d73655cd21eb0",
   "metadata": {
    "ExecuteTime": {
     "end_time": "2024-09-22T21:40:28.772057Z",
     "start_time": "2024-09-22T21:40:28.766725Z"
    },
    "collapsed": false
   },
   "outputs": [
    {
     "name": "stdout",
     "output_type": "stream",
     "text": [
      "['astropy', 'extern', 'ply', 'cpp.py']\n"
     ]
    }
   ],
   "source": [
    "# for tag in tags:\n",
    "tag = tags[0]\n",
    "path = tag['rel_fname'].split('/')\n",
    "print(path)\n",
    "s = struct\n",
    "for p in path:\n",
    "    s = s[p]"
   ]
  },
  {
   "cell_type": "code",
   "execution_count": 1,
   "id": "fae77cb71c0e0af0",
   "metadata": {
    "ExecuteTime": {
     "end_time": "2024-09-22T23:28:44.736657Z",
     "start_time": "2024-09-22T23:28:44.437844Z"
    },
    "collapsed": false
   },
   "outputs": [
    {
     "ename": "NameError",
     "evalue": "name 's' is not defined",
     "output_type": "error",
     "traceback": [
      "\u001b[0;31m---------------------------------------------------------------------------\u001b[0m",
      "\u001b[0;31mNameError\u001b[0m                                 Traceback (most recent call last)",
      "Cell \u001b[0;32mIn[1], line 1\u001b[0m\n\u001b[0;32m----> 1\u001b[0m \u001b[43ms\u001b[49m[\u001b[38;5;124m'\u001b[39m\u001b[38;5;124mtext\u001b[39m\u001b[38;5;124m'\u001b[39m]\n",
      "\u001b[0;31mNameError\u001b[0m: name 's' is not defined"
     ]
    }
   ],
   "source": [
    "s['text']"
   ]
  },
  {
   "cell_type": "code",
   "execution_count": 153,
   "id": "9ad598e26beb31d5",
   "metadata": {
    "ExecuteTime": {
     "end_time": "2024-09-22T10:16:00.607163Z",
     "start_time": "2024-09-22T10:16:00.601403Z"
    },
    "collapsed": false
   },
   "outputs": [
    {
     "data": {
      "text/plain": "{'name': 'Conf',\n 'start_line': 44,\n 'end_line': 71,\n 'text': ['class Conf(_config.ConfigNamespace):',\n  '    \"\"\"',\n  '    Configuration parameters for `astropy`.',\n  '    \"\"\"',\n  '',\n  '    unicode_output = _config.ConfigItem(',\n  '        False,',\n  \"        'When True, use Unicode characters when outputting values, and '\",\n  \"        'displaying widgets at the console.')\",\n  '    use_color = _config.ConfigItem(',\n  \"        sys.platform != 'win32',\",\n  \"        'When True, use ANSI color escape sequences when writing to the console.',\",\n  \"        aliases=['astropy.utils.console.USE_COLOR', 'astropy.logger.USE_COLOR'])\",\n  '    max_lines = _config.ConfigItem(',\n  '        None,',\n  \"        description='Maximum number of lines in the display of pretty-printed '\",\n  \"        'objects. If not provided, try to determine automatically from the '\",\n  \"        'terminal size.  Negative numbers mean no limit.',\",\n  \"        cfgtype='integer(default=None)',\",\n  \"        aliases=['astropy.table.pprint.max_lines'])\",\n  '    max_width = _config.ConfigItem(',\n  '        None,',\n  \"        description='Maximum number of characters per line in the display of '\",\n  \"        'pretty-printed objects.  If not provided, try to determine '\",\n  \"        'automatically from the terminal size. Negative numbers mean no '\",\n  \"        'limit.',\",\n  \"        cfgtype='integer(default=None)',\",\n  \"        aliases=['astropy.table.pprint.max_width'])\"],\n 'methods': []}"
     },
     "execution_count": 153,
     "metadata": {},
     "output_type": "execute_result"
    }
   ],
   "source": [
    "s['classes'][0]"
   ]
  },
  {
   "cell_type": "code",
   "execution_count": 127,
   "id": "4d66dfca73e340c3",
   "metadata": {
    "ExecuteTime": {
     "end_time": "2024-09-22T10:04:14.783620Z",
     "start_time": "2024-09-22T10:04:14.778735Z"
    },
    "collapsed": false
   },
   "outputs": [
    {
     "data": {
      "text/plain": "dict_keys(['astropy', 'docs', 'examples', '.pyinstaller'])"
     },
     "execution_count": 127,
     "metadata": {},
     "output_type": "execute_result"
    }
   ],
   "source": [
    "struct.keys()"
   ]
  },
  {
   "cell_type": "code",
   "execution_count": 45,
   "id": "4e79b33aae5ad67a",
   "metadata": {
    "ExecuteTime": {
     "end_time": "2024-09-22T22:19:48.865495Z",
     "start_time": "2024-09-22T22:19:48.860236Z"
    },
    "collapsed": false
   },
   "outputs": [
    {
     "data": {
      "text/plain": "{'category': 'function',\n 'info': 'def token():\\n    warnings.warn(_warnmsg)\\n    return _token()\\n\\n',\n 'fname': 'playground/b4bffafa-6319-41e4-a4f0-81e61108195c/astropy/astropy/extern/ply/yacc.py',\n 'line': 181,\n 'kind': 'def'}"
     },
     "execution_count": 45,
     "metadata": {},
     "output_type": "execute_result"
    }
   ],
   "source": [
    "G.nodes['token']"
   ]
  },
  {
   "cell_type": "code",
   "execution_count": 62,
   "id": "4c72da8d2ddca9f2",
   "metadata": {
    "ExecuteTime": {
     "end_time": "2024-09-22T22:40:53.741393Z",
     "start_time": "2024-09-22T22:40:53.736180Z"
    },
    "collapsed": false
   },
   "outputs": [
    {
     "data": {
      "text/plain": "['BoxLeastSquares', 'LombScargle', 'autopower']"
     },
     "execution_count": 62,
     "metadata": {},
     "output_type": "execute_result"
    }
   ],
   "source": [
    "list(G.predecessors('autopower'))"
   ]
  },
  {
   "cell_type": "code",
   "execution_count": 63,
   "id": "664ba2e6547879c3",
   "metadata": {
    "ExecuteTime": {
     "end_time": "2024-09-22T22:40:56.866033Z",
     "start_time": "2024-09-22T22:40:56.860786Z"
    },
    "collapsed": false
   },
   "outputs": [
    {
     "data": {
      "text/plain": "['autopower']"
     },
     "execution_count": 63,
     "metadata": {},
     "output_type": "execute_result"
    }
   ],
   "source": [
    "list(G.successors('autopower'))"
   ]
  },
  {
   "cell_type": "code",
   "execution_count": 9,
   "id": "54f4ec6bba1bd40d",
   "metadata": {
    "ExecuteTime": {
     "end_time": "2024-09-22T23:32:02.562086Z",
     "start_time": "2024-09-22T23:32:02.550859Z"
    },
    "collapsed": false
   },
   "outputs": [],
   "source": [
    "tags = []\n",
    "for tag in graph_tags:\n",
    "    if tag['name'] == 'token' and tag['kind'] == 'ref':\n",
    "        tags.append(tag)"
   ]
  },
  {
   "cell_type": "code",
   "execution_count": 10,
   "id": "4d2f4e70cfd05cf6",
   "metadata": {
    "ExecuteTime": {
     "end_time": "2024-09-22T23:32:02.882153Z",
     "start_time": "2024-09-22T23:32:02.871113Z"
    },
    "collapsed": false
   },
   "outputs": [
    {
     "name": "stdout",
     "output_type": "stream",
     "text": [
      "{'fname': 'playground/b4bffafa-6319-41e4-a4f0-81e61108195c/astropy/astropy/extern/ply/cpp.py', 'rel_fname': 'astropy/extern/ply/cpp.py', 'line': 185, 'name': 'token', 'kind': 'ref', 'category': 'function', 'info': '            tok = self.lexer.token()\\n'}\n",
      "['astropy', 'extern', 'ply', 'cpp.py']\n"
     ]
    }
   ],
   "source": [
    "tag = tags[0]\n",
    "print(tag)\n",
    "path = tag['rel_fname'].split('/')\n",
    "print(path)\n",
    "s = struct\n",
    "for p in path:\n",
    "    s = s[p]\n",
    "\n",
    "one_hop_tags = []\n",
    "for txt in s['functions']:\n",
    "    if txt['start_line'] <= tag['line'] <= txt['end_line']:\n",
    "        one_hop_tags.append((txt, tag['rel_fname']))\n",
    "for txt in s['classes']:\n",
    "    for func in txt['methods']:\n",
    "        if func['start_line'] <= tag['line'] <= func['end_line']:\n",
    "            func['text'].insert(0, txt['text'][0])\n",
    "            one_hop_tags.append((func, tag['rel_fname']))"
   ]
  },
  {
   "cell_type": "code",
   "execution_count": 14,
   "id": "14107553369b960b",
   "metadata": {
    "ExecuteTime": {
     "end_time": "2024-09-22T23:35:16.610750Z",
     "start_time": "2024-09-22T23:35:16.601301Z"
    },
    "collapsed": false
   },
   "outputs": [
    {
     "data": {
      "text/plain": "({'name': 'tokenize',\n  'start_line': 182,\n  'end_line': 189,\n  'text': ['class Preprocessor(object):',\n   '    def tokenize(self,text):',\n   '        tokens = []',\n   '        self.lexer.input(text)',\n   '        while True:',\n   '            tok = self.lexer.token()',\n   '            if not tok: break',\n   '            tokens.append(tok)',\n   '        return tokens']},\n 'astropy/extern/ply/cpp.py')"
     },
     "execution_count": 14,
     "metadata": {},
     "output_type": "execute_result"
    }
   ],
   "source": [
    "one_hop_tags[0]"
   ]
  }
 ],
 "metadata": {
  "kernelspec": {
   "display_name": "Python 3",
   "language": "python",
   "name": "python3"
  },
  "language_info": {
   "codemirror_mode": {
    "name": "ipython",
    "version": 2
   },
   "file_extension": ".py",
   "mimetype": "text/x-python",
   "name": "python",
   "nbconvert_exporter": "python",
   "pygments_lexer": "ipython2",
   "version": "2.7.6"
  }
 },
 "nbformat": 4,
 "nbformat_minor": 5
}
