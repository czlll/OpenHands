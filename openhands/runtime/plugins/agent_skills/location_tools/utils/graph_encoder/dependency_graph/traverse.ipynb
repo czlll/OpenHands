{
 "cells": [
  {
   "cell_type": "code",
   "execution_count": 3,
   "id": "initial_id",
   "metadata": {
    "ExecuteTime": {
     "end_time": "2024-10-03T08:33:35.642577Z",
     "start_time": "2024-10-03T08:33:35.309521Z"
    },
    "collapsed": true
   },
   "outputs": [],
   "source": [
    "import pickle\n",
    "import re\n",
    "\n",
    "DATA_PATH = '/home/gangda/workspace/auto-search-agent/graph_encoder/DATA'\n",
    "\n",
    "repo = 'django__django-10914'\n",
    "G = pickle.load(open(DATA_PATH + f'/dependency_graph_v2/{repo}.pkl', 'rb'))"
   ]
  },
  {
   "cell_type": "code",
   "execution_count": 29,
   "id": "bf3fb983443c229",
   "metadata": {
    "ExecuteTime": {
     "end_time": "2024-10-02T23:44:53.202376Z",
     "start_time": "2024-10-02T23:44:53.193161Z"
    },
    "collapsed": false
   },
   "outputs": [
    {
     "data": {
      "text/plain": "['release/fabfile.py:release',\n 'release/fabfile.py:source_tarball',\n 'release/fabfile.py:build_docs',\n 'release/fabfile.py:copy_release_files',\n 'release/fabfile.py:show_files',\n 'release/fabfile.py:compare_tar_against_git',\n 'release/fabfile.py:md5',\n 'release/fabfile.py:size',\n 'release/fabfile.py:table',\n 'release/fabfile.py:table.tag',\n 'release/fabfile.py:table.a_href',\n 'release/fabfile.py:get_tarball_name',\n 'release/fabfile.py:tarball_formatter',\n 'release/fabfile.py:get_previous_version_tag',\n 'release/fabfile.py:get_authors',\n 'release/fabfile.py:get_authors.lastnamekey',\n 'release/fabfile.py:print_authors',\n 'release/fabfile.py:check_tag_exists',\n 'release/fabfile.py:update_websites',\n 'release/fabfile.py:get_location']"
     },
     "execution_count": 29,
     "metadata": {},
     "output_type": "execute_result"
    }
   ],
   "source": [
    "list(G.nodes.keys())[100:120]"
   ]
  },
  {
   "cell_type": "code",
   "execution_count": 34,
   "id": "7423ec2235e90278",
   "metadata": {
    "ExecuteTime": {
     "end_time": "2024-10-03T09:17:44.089202Z",
     "start_time": "2024-10-03T09:17:44.072403Z"
    },
    "collapsed": false
   },
   "outputs": [],
   "source": [
    "class RepoSearcher:\n",
    "    def __init__(self, graph):\n",
    "        self.G = graph\n",
    "\n",
    "    def subgraph(self, nids):\n",
    "        subg = self.G.subgraph(nids)\n",
    "        edges = list(subg.edges(data='type'))\n",
    "        node_data = self.get_data(nids)\n",
    "        return edges, node_data\n",
    "\n",
    "    def one_hop_neighbors(self, nid, return_data=False):\n",
    "        # get one-hop neighbors from networkx graph\n",
    "        if not return_data:\n",
    "            return set(list(self.G.predecessors(nid)) + list(self.G.successors(nid)))\n",
    "\n",
    "        neigh_data = []\n",
    "        for pn in G.predecessors(nid):\n",
    "            ndata = self.get_data([pn])[0]\n",
    "            for key, attr in G.get_edge_data(pn, nid).items():\n",
    "                ndata['relation'] = attr['type'] + '-by'\n",
    "                neigh_data.append(ndata)\n",
    "        for sn in G.successors(nid):\n",
    "            ndata = self.get_data([sn])[0]\n",
    "            for key, attr in G.get_edge_data(nid, sn).items():\n",
    "                ndata['relation'] = attr['type']\n",
    "                neigh_data.append(ndata)\n",
    "\n",
    "        return neigh_data\n",
    "\n",
    "    def two_hop_neighbors(self, nid, return_data=False):\n",
    "        # get two-hop neighbors from networkx graph\n",
    "        one_hop = self.one_hop_neighbors(nid)\n",
    "        two_hop = []\n",
    "        for nid in one_hop:\n",
    "            two_hop.extend(self.one_hop_neighbors(nid))\n",
    "        two_hop = set(two_hop)\n",
    "\n",
    "        return self.get_data(two_hop) if return_data else two_hop\n",
    "\n",
    "    def dfs(self, root_nid, depth):\n",
    "        # perform depth-first search on networkx graph\n",
    "        visited = []\n",
    "        stack = [(root_nid, 0)]\n",
    "        while stack:\n",
    "            nid, level = stack.pop()\n",
    "            if nid not in visited:\n",
    "                visited.append(nid)\n",
    "                if level < depth:\n",
    "                    stack.extend([(n, level + 1) for n in self.one_hop_neighbors(nid)])\n",
    "        return visited\n",
    "\n",
    "    def bfs(self, root_nid, depth):\n",
    "        # perform breadth-first search on networkx graph\n",
    "        visited = []\n",
    "        queue = [(root_nid, 0)]\n",
    "        while queue:\n",
    "            nid, level = queue.pop(0)\n",
    "            if nid not in visited:\n",
    "                visited.append(nid)\n",
    "                if level < depth:\n",
    "                    queue.extend([(n, level + 1) for n in self.one_hop_neighbors(nid)])\n",
    "        return visited\n",
    "\n",
    "    def get_all_nodes_by_file(self, file_pattern, ntype=None):\n",
    "        all_inner_nodes = []\n",
    "        for node, _ntype in self.G.nodes(data='type'):\n",
    "            if _ntype == 'file' and re.match(file_pattern, node):\n",
    "                all_inner_nodes.extend(self.get_all_inner_nodes(node, ntype))\n",
    "        return self.get_data(all_inner_nodes)\n",
    "\n",
    "    def get_all_inner_nodes(self, src_node, ntype=None):\n",
    "        assert ntype in ['function', 'class', None]\n",
    "        inner_nodes = []\n",
    "        for _, dst_node, attr in self.G.edges(src_node, data=True):\n",
    "            if attr['type'] == 'contains':\n",
    "                if self.G.nodes[dst_node]['type'] == ntype or ntype is None:\n",
    "                    inner_nodes.append(dst_node)\n",
    "                    inner_nodes.extend(self.get_all_inner_nodes(dst_node, ntype))\n",
    "        return inner_nodes\n",
    "\n",
    "    def get_data(self, nids):\n",
    "        rtn = []\n",
    "        for nid in nids:\n",
    "            node = self.G.nodes[nid]\n",
    "            path_list = nid.split(':')\n",
    "            rtn.append(\n",
    "                {\n",
    "                    'file_path': path_list[0],\n",
    "                    'module_name': path_list[1] if len(path_list) > 1 else '',\n",
    "                    'type': node['type'],\n",
    "                    # 'code': node['code'],\n",
    "                    'start_line': node.get('start_line', 0),\n",
    "                    'end_line': node.get('end_line', 0),\n",
    "                }\n",
    "            )\n",
    "        return rtn"
   ]
  },
  {
   "cell_type": "markdown",
   "id": "5996afebc67d4ce8",
   "metadata": {
    "collapsed": false
   },
   "source": [
    "## search_dependency_graph_one_hop"
   ]
  },
  {
   "cell_type": "code",
   "execution_count": 36,
   "id": "ed2d408671dc0f5e",
   "metadata": {
    "ExecuteTime": {
     "end_time": "2024-10-03T09:17:50.237276Z",
     "start_time": "2024-10-03T09:17:50.232374Z"
    },
    "collapsed": false
   },
   "outputs": [
    {
     "data": {
      "text/plain": "11"
     },
     "execution_count": 36,
     "metadata": {},
     "output_type": "execute_result"
    }
   ],
   "source": [
    "nid = 'django/core/files/uploadedfile.py:TemporaryUploadedFile'\n",
    "\n",
    "searcher = RepoSearcher(G)\n",
    "data = searcher.one_hop_neighbors(nid, return_data=True)\n",
    "\n",
    "len(data)"
   ]
  },
  {
   "cell_type": "markdown",
   "id": "84089a935d3c3ee0",
   "metadata": {
    "collapsed": false
   },
   "source": [
    "## extract_subgraph_with_nodes"
   ]
  },
  {
   "cell_type": "code",
   "execution_count": 58,
   "id": "a09326f57b735254",
   "metadata": {
    "ExecuteTime": {
     "end_time": "2024-10-03T00:14:17.963646Z",
     "start_time": "2024-10-03T00:14:17.957067Z"
    },
    "collapsed": false
   },
   "outputs": [
    {
     "data": {
      "text/plain": "([('release/fabfile.py:show_files',\n   'release/fabfile.py:tarball_formatter',\n   'invokes'),\n  ('release/fabfile.py:compare_tar_against_git',\n   'release/fabfile.py:show_files',\n   'invokes'),\n  ('release/fabfile.py', 'release/fabfile.py:show_files', 'contains'),\n  ('release/fabfile.py',\n   'release/fabfile.py:compare_tar_against_git',\n   'contains'),\n  ('release/fabfile.py', 'release/fabfile.py:tarball_formatter', 'contains')],\n [{'file_path': 'release/fabfile.py',\n   'module_name': '',\n   'type': 'file',\n   'start_line': 0,\n   'end_line': 0},\n  {'file_path': 'release/fabfile.py',\n   'module_name': 'show_files',\n   'type': 'function',\n   'start_line': 329,\n   'end_line': 354},\n  {'file_path': 'release/fabfile.py',\n   'module_name': 'compare_tar_against_git',\n   'type': 'function',\n   'start_line': 446,\n   'end_line': 486},\n  {'file_path': 'release/fabfile.py',\n   'module_name': 'tarball_formatter',\n   'type': 'function',\n   'start_line': 640,\n   'end_line': 641}])"
     },
     "execution_count": 58,
     "metadata": {},
     "output_type": "execute_result"
    }
   ],
   "source": [
    "nids = [\n",
    "    'release/fabfile.py',\n",
    "    'release/fabfile.py:show_files',\n",
    "    'release/fabfile.py:compare_tar_against_git',\n",
    "    'release/fabfile.py:tarball_formatter',\n",
    "]\n",
    "\n",
    "searcher = RepoSearcher(G)\n",
    "data = searcher.subgraph(nids)\n",
    "\n",
    "data"
   ]
  },
  {
   "cell_type": "markdown",
   "id": "cf622eda379c0260",
   "metadata": {
    "collapsed": false
   },
   "source": [
    "## get_all_nodes "
   ]
  },
  {
   "cell_type": "code",
   "execution_count": 108,
   "id": "377f54225eeadd0",
   "metadata": {
    "ExecuteTime": {
     "end_time": "2024-10-03T01:03:33.298804Z",
     "start_time": "2024-10-03T01:03:33.283575Z"
    },
    "collapsed": false
   },
   "outputs": [
    {
     "data": {
      "text/plain": "[{'file_path': 'release/fabfile.py',\n  'module_name': 'URLs',\n  'type': 'class',\n  'start_line': 1178,\n  'end_line': 1209},\n {'file_path': 'release/fabfile.py',\n  'module_name': 'AuthenticationFailed',\n  'type': 'class',\n  'start_line': 1212,\n  'end_line': 1213}]"
     },
     "execution_count": 108,
     "metadata": {},
     "output_type": "execute_result"
    }
   ],
   "source": [
    "pattern = r'release\\/[^\\/]*file\\.py$'\n",
    "\n",
    "searcher = RepoSearcher(G)\n",
    "data = searcher.get_all_nodes_by_file(pattern, ntype='class')\n",
    "\n",
    "data"
   ]
  },
  {
   "cell_type": "code",
   "execution_count": 107,
   "id": "4f74118e41f23a3c",
   "metadata": {
    "ExecuteTime": {
     "end_time": "2024-10-03T01:03:04.561317Z",
     "start_time": "2024-10-03T01:03:04.556894Z"
    },
    "collapsed": false
   },
   "outputs": [
    {
     "data": {
      "text/plain": "50"
     },
     "execution_count": 107,
     "metadata": {},
     "output_type": "execute_result"
    }
   ],
   "source": [
    "len(data)"
   ]
  }
 ],
 "metadata": {
  "kernelspec": {
   "display_name": "Python 3",
   "language": "python",
   "name": "python3"
  },
  "language_info": {
   "codemirror_mode": {
    "name": "ipython",
    "version": 2
   },
   "file_extension": ".py",
   "mimetype": "text/x-python",
   "name": "python",
   "nbconvert_exporter": "python",
   "pygments_lexer": "ipython2",
   "version": "2.7.6"
  }
 },
 "nbformat": 4,
 "nbformat_minor": 5
}
